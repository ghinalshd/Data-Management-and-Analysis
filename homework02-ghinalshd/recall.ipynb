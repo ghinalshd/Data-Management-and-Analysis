{
 "cells": [
  {
   "attachments": {},
   "cell_type": "markdown",
   "id": "5886a804",
   "metadata": {},
   "source": [
    "# Table of Contents\n",
    "\n",
    "* [First lambda](https://github.com/nyu-csci-ua-0479-001-fall-2023/homework02-ghinalshd/blob/1ed2ad4b6552cebab6d12adbb52968217b232b0c/recall.ipynb#L381)\n",
    "* [Second lambda](https://github.com/nyu-csci-ua-0479-001-fall-2023/homework02-ghinalshd/blob/1ed2ad4b6552cebab6d12adbb52968217b232b0c/recall.ipynb#L417)"
   ]
  },
  {
   "attachments": {},
   "cell_type": "markdown",
   "id": "a552879c",
   "metadata": {},
   "source": [
    "#### Part 1"
   ]
  },
  {
   "cell_type": "code",
   "execution_count": 1,
   "id": "ef325df0-23aa-4a67-9056-b1271767446b",
   "metadata": {},
   "outputs": [
    {
     "name": "stdout",
     "output_type": "stream",
     "text": [
      "Manufacturer with Highest Potentially Affected: Chrysler (FCA US, LLC)\n",
      "Highest Potentially Affected: 1224078\n",
      "\n",
      "Manufacturer with Lowest Potentially Affected: Mercedes-Benz USA, LLC\n",
      "Lowest Potentially Affected: 1\n"
     ]
    }
   ],
   "source": [
    "import csv\n",
    "# Part 1\n",
    "highest_manufacturer = \"\"\n",
    "lowest_manufacturer = \"\"\n",
    "highest_potentially_affected = float('-inf') #Represents negative infinity in floating-point numbers. This guartantees that it will be smaller than any real number\n",
    "lowest_potentially_affected = float('inf') #Represents positive infinity in floating-point numbers. This guarantees that it will be larger than any real number\n",
    "with open('recalls-truncated.csv', newline='') as csvfile:\n",
    "    reader = csv.DictReader(csvfile, delimiter=',')\n",
    "    for row in reader:\n",
    "        if row['Recall Type'] == 'Vehicle':\n",
    "            potentially_affected = int(row[\"Potentially Affected\"])\n",
    "            manufacturer = row[\"Manufacturer\"]\n",
    "            if potentially_affected > highest_potentially_affected:\n",
    "                highest_potentially_affected = potentially_affected\n",
    "                highest_manufacturer = manufacturer\n",
    "            \n",
    "            if potentially_affected < lowest_potentially_affected:\n",
    "                lowest_potentially_affected = potentially_affected\n",
    "                lowest_manufacturer = manufacturer \n",
    "\n",
    "print(\"Manufacturer with Highest Potentially Affected:\", highest_manufacturer)\n",
    "print(\"Highest Potentially Affected:\", highest_potentially_affected)\n",
    "print(\"\\nManufacturer with Lowest Potentially Affected:\", lowest_manufacturer)\n",
    "print(\"Lowest Potentially Affected:\", lowest_potentially_affected)"
   ]
  },
  {
   "attachments": {},
   "cell_type": "markdown",
   "id": "e664de2a",
   "metadata": {},
   "source": [
    "#### Part 3"
   ]
  },
  {
   "cell_type": "code",
   "execution_count": 2,
   "id": "9087e6af",
   "metadata": {},
   "outputs": [],
   "source": [
    "from nelta import Table\n",
    "#TODO: modify the path\n",
    "data = Table.read_csv('recalls-truncated.csv') "
   ]
  },
  {
   "cell_type": "code",
   "execution_count": 3,
   "id": "bf4eed22",
   "metadata": {},
   "outputs": [
    {
     "data": {
      "text/plain": [
       "(350, 5)"
      ]
     },
     "execution_count": 3,
     "metadata": {},
     "output_type": "execute_result"
    }
   ],
   "source": [
    "#1. Display the number of rows and columns of the table\n",
    "data.shape()"
   ]
  },
  {
   "cell_type": "code",
   "execution_count": 4,
   "id": "fd3cea27",
   "metadata": {},
   "outputs": [
    {
     "name": "stdout",
     "output_type": "stream",
     "text": [
      "['Date', 'Manufacturer', 'Subject', 'Recall Type', 'Potentially Affected']\n"
     ]
    }
   ],
   "source": [
    "#2. Display the columns of the table\n",
    "print(data.columns)"
   ]
  },
  {
   "cell_type": "code",
   "execution_count": 5,
   "id": "7aa132a7",
   "metadata": {},
   "outputs": [
    {
     "name": "stdout",
     "output_type": "stream",
     "text": [
      "\tDate\tManufacturer\tSubject\tRecall Type\tPotentially Affected\t\n",
      "0\t01/06/2023\tTriple E Recreational Vehicles\tBattery Disconnect Switch May Short\tVehicle\t341.0                     \n",
      "1\t01/05/2023\tVolvo Car USA, LLC\tSteering Wheel May Lock Up\tVehicle\t74.0                                           \n",
      "2\t12/29/2022\tVolkswagen Group of America, Inc.\t12-Volt Battery Cable May Short Circuit\tVehicle\t1042.0             \n",
      "3\t12/29/2022\tIndian Motorcycle Company\tKickstand May Not Retract Properly/FMVSS 123\tVehicle\t4653.0                \n",
      "\n"
     ]
    }
   ],
   "source": [
    "#3. Display the first 4 rows of the dataset\n",
    "print(data.head(4))"
   ]
  },
  {
   "cell_type": "code",
   "execution_count": 6,
   "id": "65bfc9c8",
   "metadata": {},
   "outputs": [],
   "source": [
    "#4. Save the last 4 rows of the dataset in a variable called last_four\n",
    "last_four = data.tail(4)"
   ]
  },
  {
   "cell_type": "code",
   "execution_count": 7,
   "id": "05777974",
   "metadata": {},
   "outputs": [
    {
     "name": "stdout",
     "output_type": "stream",
     "text": [
      "\tSubject\t\n",
      "346\tImproperly Secured Front Seat Belt Anchor         \n",
      "347\tRearview Camera Image May Not Display/FMVSS 111   \n",
      "348\tSecondary Hood Latch Corrosion                    \n",
      "349\tTire Sidewall Separation/ FMVSS 139               \n",
      "\n"
     ]
    }
   ],
   "source": [
    "#5. Show only the label (\"index\") and Subject column of last_four as a LabeledList (no column name needed)\n",
    "indexList= last_four[[\"Subject\"]]\n",
    "print(indexList)\n"
   ]
  },
  {
   "cell_type": "code",
   "execution_count": 8,
   "id": "5b908310",
   "metadata": {},
   "outputs": [
    {
     "name": "stdout",
     "output_type": "stream",
     "text": [
      "Improperly Secured Front Seat Belt Anchor\n",
      "Rearview Camera Image May Not Display/FMVSS 111\n",
      "Secondary Hood Latch Corrosion\n",
      "Tire Sidewall Separation/ FMVSS 139\n"
     ]
    }
   ],
   "source": [
    "#6. Loop over the Subject column as a LabeledList and print out each valuve\n",
    "for subject in last_four['Subject']:\n",
    "    print(subject)"
   ]
  },
  {
   "cell_type": "code",
   "execution_count": 9,
   "id": "39558d40",
   "metadata": {},
   "outputs": [
    {
     "name": "stdout",
     "output_type": "stream",
     "text": [
      "\tManufacturer\tSubject\t\n",
      "346\tRivian Automotive, LLC\tImproperly Secured Front Seat Belt Anchor            \n",
      "347\tChrysler (FCA US, LLC)\tRearview Camera Image May Not Display/FMVSS 111      \n",
      "348\tGeneral Motors, LLC\tSecondary Hood Latch Corrosion                          \n",
      "349\tPT. Elangperdana Tyre Industry\tTire Sidewall Separation/ FMVSS 139          \n",
      "\n"
     ]
    }
   ],
   "source": [
    "#7. Show the label (\"index\") and both the Manufacturer and Subject columns of last_four as a Table (include column names)\n",
    "print(last_four[['Manufacturer', 'Subject']])"
   ]
  },
  {
   "cell_type": "code",
   "execution_count": 10,
   "id": "379aad64",
   "metadata": {},
   "outputs": [],
   "source": [
    "#8. Using your original, unaltered Table, find all rows with Recall Type Vehicle and save to a variable called vehicles\n",
    "import nelta as nt\n",
    "new_values=[]\n",
    "new_index=[]\n",
    "n=0\n",
    "for i in data.values:\n",
    "    if i[3]=='Vehicle':\n",
    "        new_values.append(i)\n",
    "        new_index.append(n)\n",
    "    n+=1     \n",
    "vehicles=nt.Table(new_values,new_index,data.columns)"
   ]
  },
  {
   "cell_type": "code",
   "execution_count": 11,
   "id": "bd653141",
   "metadata": {},
   "outputs": [
    {
     "name": "stdout",
     "output_type": "stream",
     "text": [
      "313\n"
     ]
    }
   ],
   "source": [
    "#9. Number of rows in 'vehicles' Table\n",
    "print(vehicles.shape()[0])"
   ]
  },
  {
   "cell_type": "code",
   "execution_count": 12,
   "id": "d63b4052",
   "metadata": {},
   "outputs": [],
   "source": [
    "#10. Potentially Affected use the greater than operator (>) to compare with 500,000 save this to a variable called my_filter\n",
    "new_values=[i[4] for i in vehicles.values]\n",
    "\n",
    "my_filter=nt.LabeledList(new_values)>500000"
   ]
  },
  {
   "cell_type": "code",
   "execution_count": 13,
   "id": "df077720",
   "metadata": {},
   "outputs": [
    {
     "name": "stdout",
     "output_type": "stream",
     "text": [
      "<class 'nelta.LabeledList'>\n"
     ]
    }
   ],
   "source": [
    "#11. Type of my_filter using the function type\n",
    "print(type(my_filter))"
   ]
  },
  {
   "cell_type": "code",
   "execution_count": 14,
   "id": "df3c34f8",
   "metadata": {},
   "outputs": [
    {
     "name": "stdout",
     "output_type": "stream",
     "text": [
      "False\n"
     ]
    }
   ],
   "source": [
    "#12. Index into your my_filter with 3\n",
    "print(my_filter[3])"
   ]
  },
  {
   "cell_type": "code",
   "execution_count": 15,
   "id": "ee453540",
   "metadata": {},
   "outputs": [
    {
     "name": "stdout",
     "output_type": "stream",
     "text": [
      "\tDate\tManufacturer\tSubject\tRecall Type\tPotentially Affected\t\n",
      " 60\t12/08/2022\tGeneral Motors, LLC\tRunning Lights May Not Deactivate/FMVSS 108\tVehicle\t740108.0                \n",
      " 61\t12/08/2022\tChrysler (FCA US, LLC)\tTailgate May Open While Driving\tVehicle\t1224078.0                        \n",
      "110\t11/18/2022\tFord Motor Company\tCracked Fuel Injector May Leak and Cause a Fire\tVehicle\t521746.0             \n",
      "284\t09/19/2022\tTesla, Inc.\tPower Windows May Pinch/FMVSS 118\tVehicle\t1096762.0                                 \n",
      "\n"
     ]
    }
   ],
   "source": [
    "#13. Use your my_filter variable as the index to your vehicles Table\n",
    "print(vehicles[my_filter.values])"
   ]
  },
  {
   "cell_type": "code",
   "execution_count": 16,
   "id": "23f60206",
   "metadata": {},
   "outputs": [],
   "source": [
    "#14. Save your resulting Table into a variable called rare_occurence\n",
    "rare_occurrence = vehicles[my_filter.values]"
   ]
  },
  {
   "attachments": {},
   "cell_type": "markdown",
   "id": "0e13150a",
   "metadata": {},
   "source": [
    "## First Lambda"
   ]
  },
  {
   "cell_type": "code",
   "execution_count": 17,
   "id": "169b65d8",
   "metadata": {},
   "outputs": [
    {
     "name": "stdout",
     "output_type": "stream",
     "text": [
      " 60 GENERAL MOTORS, LLC\n",
      " 61 CHRYSLER (FCA US, LLC)\n",
      "110 FORD MOTOR COMPANY\n",
      "284 TESLA, INC.\n",
      "\n"
     ]
    }
   ],
   "source": [
    "#15. Using your rare_occurence table, transform the Manufacturer to uppercase by using map on the column\n",
    "data = [i[1] for i in rare_occurrence.values]\n",
    "ll=nt.LabeledList(data, rare_occurrence.index)\n",
    "capital = ll.map(lambda x: x.upper())\n",
    "print(capital)\n"
   ]
  },
  {
   "attachments": {},
   "cell_type": "markdown",
   "id": "dbae8137",
   "metadata": {},
   "source": [
    "## Second Lambda"
   ]
  },
  {
   "cell_type": "code",
   "execution_count": 19,
   "id": "a4d8d1ac",
   "metadata": {},
   "outputs": [
    {
     "name": "stdout",
     "output_type": "stream",
     "text": [
      "\tDate\tManufacturer\tSubject\tRecall Type\tPotentially Affected\t\n",
      "0\t01/06/2023\tTriple E Recreational Vehicles\tBattery Disconnect Switch May Short\tVehicle\t341.0             \n",
      "1\t01/05/2023\tVolvo Car USA, LLC\tSteering Wheel May Lock Up\tVehicle\t74.0                                   \n",
      "\n"
     ]
    }
   ],
   "source": [
    "#16. Find the recalls that happened in 2023\n",
    "\n",
    "new_values=[]\n",
    "new_index=[]\n",
    "n=0\n",
    "data = Table.read_csv('recalls-truncated.csv') \n",
    "\n",
    "\n",
    "for i in data.values:\n",
    "    date = (i[0].split('/'))[2]\n",
    "    if date == '2023':\n",
    "        new_values.append(i)\n",
    "        new_index.append(n)  \n",
    "        n+=1\n",
    "    lambda n : n + 1 \n",
    "\n",
    "new_table=nt.Table(new_values,new_index, data.columns) \n",
    "print(new_table)"
   ]
  },
  {
   "cell_type": "markdown",
   "id": "76523ce3",
   "metadata": {},
   "source": []
  }
 ],
 "metadata": {
  "kernelspec": {
   "display_name": "Python 3",
   "language": "python",
   "name": "python3"
  },
  "language_info": {
   "codemirror_mode": {
    "name": "ipython",
    "version": 3
   },
   "file_extension": ".py",
   "mimetype": "text/x-python",
   "name": "python",
   "nbconvert_exporter": "python",
   "pygments_lexer": "ipython3",
   "version": "3.10.2"
  }
 },
 "nbformat": 4,
 "nbformat_minor": 5
}
